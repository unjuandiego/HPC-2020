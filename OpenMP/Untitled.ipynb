{
 "cells": [
  {
   "cell_type": "code",
   "execution_count": null,
   "metadata": {},
   "outputs": [],
   "source": [
    "//OpenMP paralelizacion Multiplicacion de matrices NxN secuencial\n",
    "\n",
    "void mult_matriz(float **matriz1 , float **matriz2 , float **matrizR, int nn){\n",
    "\n",
    " float cont;\n",
    " #pragma omp parallel for\n",
    " for (int i = 0; i < nn; ++i){\n",
    "     for (int j = 0; j < nn; ++j){\n",
    "       cont = 0,0;\n",
    "       for (int k = 0; k < nn; ++k){\n",
    "         cont += matriz1[i][k] * matriz2[k][j];\n",
    "       }\n",
    "       matrizR[i][j] = cont;\n",
    "    }\n",
    "  }\n",
    "}"
   ]
  },
  {
   "cell_type": "code",
   "execution_count": null,
   "metadata": {},
   "outputs": [],
   "source": [
    "void mult_matriz(float **matriz1 , float **matriz2 , float **matrizR, int nn){\n",
    "\n",
    " float cont;\n",
    " #pragma omp taskloop simd \n",
    " for (int i = 0; i < nn; ++i){\n",
    "     for (int j = 0; j < nn; ++j){\n",
    "       cont = 0,0;\n",
    "       for (int k = 0; k < nn; ++k){\n",
    "         cont += matriz1[i][k] * matriz2[k][j];\n",
    "       }\n",
    "       matrizR[i][j] = cont;\n",
    "    }\n",
    "  }\n",
    "}"
   ]
  },
  {
   "cell_type": "code",
   "execution_count": null,
   "metadata": {},
   "outputs": [],
   "source": [
    "void mult_matriz(float **matriz1 , float **matriz2 , float **matrizR, int nn){\n",
    "\n",
    " float cont;\n",
    "#pragma omp distribute parallel for \n",
    " for (int i = 0; i < nn; ++i){\n",
    "     for (int j = 0; j < nn; ++j){\n",
    "       cont = 0,0;\n",
    "       for (int k = 0; k < nn; ++k){\n",
    "         cont += matriz1[i][k] * matriz2[k][j];\n",
    "       }\n",
    "       matrizR[i][j] = cont;\n",
    "    }\n",
    "  }\n",
    "}"
   ]
  },
  {
   "cell_type": "code",
   "execution_count": null,
   "metadata": {},
   "outputs": [],
   "source": [
    "oid mult_matriz(float **matriz1 , float **matriz2 , float **matrizR, int nn){\n",
    "\n",
    " float cont;\n",
    "#pragma omp parallel for simd \n",
    " for (int i = 0; i < nn; ++i){\n",
    "     for (int j = 0; j < nn; ++j){\n",
    "       cont = 0,0;\n",
    "       for (int k = 0; k < nn; ++k){\n",
    "         cont += matriz1[i][k] * matriz2[k][j];\n",
    "       }\n",
    "       matrizR[i][j] = cont;\n",
    "    }\n",
    "  }\n",
    "}"
   ]
  },
  {
   "cell_type": "code",
   "execution_count": null,
   "metadata": {},
   "outputs": [],
   "source": [
    "void mult_matriz(float **matriz1 , float **matriz2 , float **matrizR, int nn){\n",
    "\n",
    " float cont;\n",
    "#pragma omp loop \n",
    " for (int i = 0; i < nn; ++i){\n",
    "     for (int j = 0; j < nn; ++j){\n",
    "       cont = 0,0;\n",
    "       for (int k = 0; k < nn; ++k){\n",
    "         cont += matriz1[i][k] * matriz2[k][j];\n",
    "       }\n",
    "       matrizR[i][j] = cont;\n",
    "    }\n",
    "  }\n",
    "}"
   ]
  },
  {
   "cell_type": "code",
   "execution_count": null,
   "metadata": {},
   "outputs": [],
   "source": []
  }
 ],
 "metadata": {
  "kernelspec": {
   "display_name": "Python 3",
   "language": "python",
   "name": "python3"
  },
  "language_info": {
   "codemirror_mode": {
    "name": "ipython",
    "version": 3
   },
   "file_extension": ".py",
   "mimetype": "text/x-python",
   "name": "python",
   "nbconvert_exporter": "python",
   "pygments_lexer": "ipython3",
   "version": "3.7.6"
  }
 },
 "nbformat": 4,
 "nbformat_minor": 4
}
